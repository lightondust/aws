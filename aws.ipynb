{
 "cells": [
  {
   "cell_type": "code",
   "execution_count": 1,
   "metadata": {},
   "outputs": [],
   "source": [
    "import boto3\n",
    "from AwsInfo import AwsInfo"
   ]
  },
  {
   "cell_type": "markdown",
   "metadata": {},
   "source": [
    "# カスタムライブラリ"
   ]
  },
  {
   "cell_type": "code",
   "execution_count": 4,
   "metadata": {},
   "outputs": [],
   "source": [
    "from AwsInfo import AwsInfo"
   ]
  },
  {
   "cell_type": "code",
   "execution_count": 3,
   "metadata": {},
   "outputs": [],
   "source": [
    "aws_info = AwsInfo()"
   ]
  },
  {
   "cell_type": "code",
   "execution_count": 11,
   "metadata": {},
   "outputs": [
    {
     "data": {
      "text/plain": [
       "{'jupyter': {'id': 'i-0ccc4f9d10e7549a7',\n",
       "  'status': 'running',\n",
       "  'type': 't2.micro'},\n",
       " 'jupyterSpot': {'id': 'i-069e83d567631346e',\n",
       "  'status': 'running',\n",
       "  'type': 'p2.xlarge'},\n",
       " 'jupyter_gpu': {'id': 'i-0f95d087c163be336',\n",
       "  'status': 'stopped',\n",
       "  'type': 'p2.xlarge'},\n",
       " 'web': {'id': 'i-0e22faee3f2ebd2ac', 'status': 'running', 'type': 't2.micro'}}"
      ]
     },
     "execution_count": 11,
     "metadata": {},
     "output_type": "execute_result"
    }
   ],
   "source": [
    "aws_info.get_instance_info()"
   ]
  },
  {
   "cell_type": "code",
   "execution_count": 33,
   "metadata": {},
   "outputs": [],
   "source": [
    "instance_id = aws_info.instance_info[\"jupyter\"][\"id\"]"
   ]
  },
  {
   "cell_type": "markdown",
   "metadata": {},
   "source": [
    "# EC2"
   ]
  },
  {
   "cell_type": "code",
   "execution_count": 57,
   "metadata": {},
   "outputs": [],
   "source": [
    "ec2 = boto3.client('ec2')"
   ]
  },
  {
   "cell_type": "code",
   "execution_count": 58,
   "metadata": {},
   "outputs": [],
   "source": [
    "response = ec2.describe_instances()"
   ]
  },
  {
   "cell_type": "code",
   "execution_count": 59,
   "metadata": {},
   "outputs": [
    {
     "data": {
      "text/plain": [
       "{'Reservations': [{'Groups': [],\n",
       "   'Instances': [{'AmiLaunchIndex': 0,\n",
       "     'Architecture': 'x86_64',\n",
       "     'BlockDeviceMappings': [],\n",
       "     'ClientToken': '',\n",
       "     'EbsOptimized': False,\n",
       "     'EnaSupport': True,\n",
       "     'Hypervisor': 'xen',\n",
       "     'ImageId': 'ami-6dca2012',\n",
       "     'InstanceId': 'i-0f95d087c163be336',\n",
       "     'InstanceType': 'p2.xlarge',\n",
       "     'KeyName': 'stock-tokyo',\n",
       "     'LaunchTime': datetime.datetime(2018, 5, 27, 9, 11, 2, tzinfo=tzutc()),\n",
       "     'Monitoring': {'State': 'disabled'},\n",
       "     'NetworkInterfaces': [{'Attachment': {'AttachTime': datetime.datetime(2018, 5, 26, 10, 3, 41, tzinfo=tzutc()),\n",
       "        'AttachmentId': 'eni-attach-3d4dc2d0',\n",
       "        'DeleteOnTermination': True,\n",
       "        'DeviceIndex': 0,\n",
       "        'Status': 'attached'},\n",
       "       'Description': '',\n",
       "       'Groups': [{'GroupId': 'sg-553c0a2c', 'GroupName': 'neural'}],\n",
       "       'Ipv6Addresses': [],\n",
       "       'MacAddress': '06:48:16:87:15:de',\n",
       "       'NetworkInterfaceId': 'eni-b677b087',\n",
       "       'OwnerId': '110144130993',\n",
       "       'PrivateDnsName': 'ip-172-31-21-124.ap-northeast-1.compute.internal',\n",
       "       'PrivateIpAddress': '172.31.21.124',\n",
       "       'PrivateIpAddresses': [{'Primary': True,\n",
       "         'PrivateDnsName': 'ip-172-31-21-124.ap-northeast-1.compute.internal',\n",
       "         'PrivateIpAddress': '172.31.21.124'}],\n",
       "       'SourceDestCheck': True,\n",
       "       'Status': 'in-use',\n",
       "       'SubnetId': 'subnet-45e07c0c',\n",
       "       'VpcId': 'vpc-1e14ed79'}],\n",
       "     'Placement': {'AvailabilityZone': 'ap-northeast-1a',\n",
       "      'GroupName': '',\n",
       "      'Tenancy': 'default'},\n",
       "     'PrivateDnsName': 'ip-172-31-21-124.ap-northeast-1.compute.internal',\n",
       "     'PrivateIpAddress': '172.31.21.124',\n",
       "     'ProductCodes': [],\n",
       "     'PublicDnsName': '',\n",
       "     'RootDeviceName': '/dev/xvda',\n",
       "     'RootDeviceType': 'ebs',\n",
       "     'SecurityGroups': [{'GroupId': 'sg-553c0a2c', 'GroupName': 'neural'}],\n",
       "     'SourceDestCheck': True,\n",
       "     'State': {'Code': 80, 'Name': 'stopped'},\n",
       "     'StateReason': {'Code': 'Client.UserInitiatedShutdown',\n",
       "      'Message': 'Client.UserInitiatedShutdown: User initiated shutdown'},\n",
       "     'StateTransitionReason': 'User initiated (2018-05-27 09:58:32 GMT)',\n",
       "     'SubnetId': 'subnet-45e07c0c',\n",
       "     'Tags': [{'Key': 'Name', 'Value': 'jupyter_gpu'}],\n",
       "     'VirtualizationType': 'hvm',\n",
       "     'VpcId': 'vpc-1e14ed79'}],\n",
       "   'OwnerId': '110144130993',\n",
       "   'ReservationId': 'r-036aa78250389712a'},\n",
       "  {'Groups': [],\n",
       "   'Instances': [{'AmiLaunchIndex': 0,\n",
       "     'Architecture': 'x86_64',\n",
       "     'BlockDeviceMappings': [{'DeviceName': '/dev/xvda',\n",
       "       'Ebs': {'AttachTime': datetime.datetime(2017, 12, 10, 6, 20, 25, tzinfo=tzutc()),\n",
       "        'DeleteOnTermination': True,\n",
       "        'Status': 'attached',\n",
       "        'VolumeId': 'vol-031d621365daeaa5e'}}],\n",
       "     'ClientToken': 'stock-WebSe-1VW9HLZFZUS0Y',\n",
       "     'EbsOptimized': False,\n",
       "     'EnaSupport': True,\n",
       "     'Hypervisor': 'xen',\n",
       "     'ImageId': 'ami-da9e2cbc',\n",
       "     'InstanceId': 'i-0e22faee3f2ebd2ac',\n",
       "     'InstanceType': 't2.micro',\n",
       "     'KeyName': 'stock-tokyo',\n",
       "     'LaunchTime': datetime.datetime(2018, 6, 16, 21, 30, 30, tzinfo=tzutc()),\n",
       "     'Monitoring': {'State': 'disabled'},\n",
       "     'NetworkInterfaces': [{'Association': {'IpOwnerId': '110144130993',\n",
       "        'PublicDnsName': 'ec2-52-68-76-91.ap-northeast-1.compute.amazonaws.com',\n",
       "        'PublicIp': '52.68.76.91'},\n",
       "       'Attachment': {'AttachTime': datetime.datetime(2017, 12, 10, 6, 20, 24, tzinfo=tzutc()),\n",
       "        'AttachmentId': 'eni-attach-b5bd11d1',\n",
       "        'DeleteOnTermination': True,\n",
       "        'DeviceIndex': 0,\n",
       "        'Status': 'attached'},\n",
       "       'Description': '',\n",
       "       'Groups': [{'GroupId': 'sg-5c39ed25',\n",
       "         'GroupName': 'stock-tokyo-WebServerSecurityGroup-1FYLV8SGFA5C1'}],\n",
       "       'Ipv6Addresses': [],\n",
       "       'MacAddress': '06:fb:3c:97:d4:5c',\n",
       "       'NetworkInterfaceId': 'eni-6faf3653',\n",
       "       'OwnerId': '110144130993',\n",
       "       'PrivateDnsName': 'ip-172-31-28-12.ap-northeast-1.compute.internal',\n",
       "       'PrivateIpAddress': '172.31.28.12',\n",
       "       'PrivateIpAddresses': [{'Association': {'IpOwnerId': '110144130993',\n",
       "          'PublicDnsName': 'ec2-52-68-76-91.ap-northeast-1.compute.amazonaws.com',\n",
       "          'PublicIp': '52.68.76.91'},\n",
       "         'Primary': True,\n",
       "         'PrivateDnsName': 'ip-172-31-28-12.ap-northeast-1.compute.internal',\n",
       "         'PrivateIpAddress': '172.31.28.12'},\n",
       "        {'Primary': False,\n",
       "         'PrivateDnsName': 'ip-172-31-27-122.ap-northeast-1.compute.internal',\n",
       "         'PrivateIpAddress': '172.31.27.122'}],\n",
       "       'SourceDestCheck': True,\n",
       "       'Status': 'in-use',\n",
       "       'SubnetId': 'subnet-45e07c0c',\n",
       "       'VpcId': 'vpc-1e14ed79'}],\n",
       "     'Placement': {'AvailabilityZone': 'ap-northeast-1a',\n",
       "      'GroupName': '',\n",
       "      'Tenancy': 'default'},\n",
       "     'PrivateDnsName': 'ip-172-31-28-12.ap-northeast-1.compute.internal',\n",
       "     'PrivateIpAddress': '172.31.28.12',\n",
       "     'ProductCodes': [],\n",
       "     'PublicDnsName': 'ec2-52-68-76-91.ap-northeast-1.compute.amazonaws.com',\n",
       "     'PublicIpAddress': '52.68.76.91',\n",
       "     'RootDeviceName': '/dev/xvda',\n",
       "     'RootDeviceType': 'ebs',\n",
       "     'SecurityGroups': [{'GroupId': 'sg-5c39ed25',\n",
       "       'GroupName': 'stock-tokyo-WebServerSecurityGroup-1FYLV8SGFA5C1'}],\n",
       "     'SourceDestCheck': True,\n",
       "     'State': {'Code': 16, 'Name': 'running'},\n",
       "     'StateTransitionReason': '',\n",
       "     'SubnetId': 'subnet-45e07c0c',\n",
       "     'Tags': [{'Key': 'aws:cloudformation:stack-name', 'Value': 'stock-tokyo'},\n",
       "      {'Key': 'aws:cloudformation:stack-id',\n",
       "       'Value': 'arn:aws:cloudformation:ap-northeast-1:110144130993:stack/stock-tokyo/2d6c4510-dd72-11e7-a3c2-500c44f24ce6'},\n",
       "      {'Key': 'Name', 'Value': 'web'},\n",
       "      {'Key': 'aws:cloudformation:logical-id', 'Value': 'WebServerInstance'}],\n",
       "     'VirtualizationType': 'hvm',\n",
       "     'VpcId': 'vpc-1e14ed79'}],\n",
       "   'OwnerId': '110144130993',\n",
       "   'RequesterId': '331753876576',\n",
       "   'ReservationId': 'r-078a6f60c1632b72c'},\n",
       "  {'Groups': [],\n",
       "   'Instances': [{'AmiLaunchIndex': 0,\n",
       "     'Architecture': 'x86_64',\n",
       "     'BlockDeviceMappings': [{'DeviceName': '/dev/xvda',\n",
       "       'Ebs': {'AttachTime': datetime.datetime(2018, 1, 30, 14, 43, 11, tzinfo=tzutc()),\n",
       "        'DeleteOnTermination': True,\n",
       "        'Status': 'attached',\n",
       "        'VolumeId': 'vol-079bab626d55cfa29'}}],\n",
       "     'ClientToken': '',\n",
       "     'EbsOptimized': False,\n",
       "     'EnaSupport': True,\n",
       "     'Hypervisor': 'xen',\n",
       "     'ImageId': 'ami-ceafcba8',\n",
       "     'InstanceId': 'i-0ccc4f9d10e7549a7',\n",
       "     'InstanceType': 't2.micro',\n",
       "     'KeyName': 'stock-tokyo',\n",
       "     'LaunchTime': datetime.datetime(2018, 6, 17, 5, 9, 29, tzinfo=tzutc()),\n",
       "     'Monitoring': {'State': 'disabled'},\n",
       "     'NetworkInterfaces': [{'Association': {'IpOwnerId': 'amazon',\n",
       "        'PublicDnsName': 'ec2-54-249-2-217.ap-northeast-1.compute.amazonaws.com',\n",
       "        'PublicIp': '54.249.2.217'},\n",
       "       'Attachment': {'AttachTime': datetime.datetime(2018, 1, 30, 14, 43, 10, tzinfo=tzutc()),\n",
       "        'AttachmentId': 'eni-attach-f6087692',\n",
       "        'DeleteOnTermination': True,\n",
       "        'DeviceIndex': 0,\n",
       "        'Status': 'attached'},\n",
       "       'Description': '',\n",
       "       'Groups': [{'GroupId': 'sg-b0bc24c9', 'GroupName': 'launch-wizard-1'}],\n",
       "       'Ipv6Addresses': [],\n",
       "       'MacAddress': '06:7d:92:76:6b:18',\n",
       "       'NetworkInterfaceId': 'eni-0802b037',\n",
       "       'OwnerId': '110144130993',\n",
       "       'PrivateDnsName': 'ip-172-31-18-215.ap-northeast-1.compute.internal',\n",
       "       'PrivateIpAddress': '172.31.18.215',\n",
       "       'PrivateIpAddresses': [{'Association': {'IpOwnerId': 'amazon',\n",
       "          'PublicDnsName': 'ec2-54-249-2-217.ap-northeast-1.compute.amazonaws.com',\n",
       "          'PublicIp': '54.249.2.217'},\n",
       "         'Primary': True,\n",
       "         'PrivateDnsName': 'ip-172-31-18-215.ap-northeast-1.compute.internal',\n",
       "         'PrivateIpAddress': '172.31.18.215'},\n",
       "        {'Primary': False,\n",
       "         'PrivateDnsName': 'ip-172-31-30-165.ap-northeast-1.compute.internal',\n",
       "         'PrivateIpAddress': '172.31.30.165'}],\n",
       "       'SourceDestCheck': True,\n",
       "       'Status': 'in-use',\n",
       "       'SubnetId': 'subnet-45e07c0c',\n",
       "       'VpcId': 'vpc-1e14ed79'}],\n",
       "     'Placement': {'AvailabilityZone': 'ap-northeast-1a',\n",
       "      'GroupName': '',\n",
       "      'Tenancy': 'default'},\n",
       "     'PrivateDnsName': 'ip-172-31-18-215.ap-northeast-1.compute.internal',\n",
       "     'PrivateIpAddress': '172.31.18.215',\n",
       "     'ProductCodes': [],\n",
       "     'PublicDnsName': 'ec2-54-249-2-217.ap-northeast-1.compute.amazonaws.com',\n",
       "     'PublicIpAddress': '54.249.2.217',\n",
       "     'RootDeviceName': '/dev/xvda',\n",
       "     'RootDeviceType': 'ebs',\n",
       "     'SecurityGroups': [{'GroupId': 'sg-b0bc24c9',\n",
       "       'GroupName': 'launch-wizard-1'}],\n",
       "     'SourceDestCheck': True,\n",
       "     'State': {'Code': 16, 'Name': 'running'},\n",
       "     'StateTransitionReason': '',\n",
       "     'SubnetId': 'subnet-45e07c0c',\n",
       "     'Tags': [{'Key': 'Name', 'Value': 'jupyter'}],\n",
       "     'VirtualizationType': 'hvm',\n",
       "     'VpcId': 'vpc-1e14ed79'}],\n",
       "   'OwnerId': '110144130993',\n",
       "   'ReservationId': 'r-0d685f54c01263291'},\n",
       "  {'Groups': [],\n",
       "   'Instances': [{'AmiLaunchIndex': 0,\n",
       "     'Architecture': 'x86_64',\n",
       "     'BlockDeviceMappings': [],\n",
       "     'ClientToken': '995f05fa-43d9-4c8e-b62e-8c82629efbd1',\n",
       "     'EbsOptimized': False,\n",
       "     'Hypervisor': 'xen',\n",
       "     'ImageId': 'ami-b50eccca',\n",
       "     'InstanceId': 'i-0bfddbe34cc0a7b89',\n",
       "     'InstanceLifecycle': 'spot',\n",
       "     'InstanceType': 'p2.xlarge',\n",
       "     'KeyName': 'stock-tokyo',\n",
       "     'LaunchTime': datetime.datetime(2018, 6, 17, 7, 25, 51, tzinfo=tzutc()),\n",
       "     'Monitoring': {'State': 'disabled'},\n",
       "     'NetworkInterfaces': [],\n",
       "     'Placement': {'AvailabilityZone': 'ap-northeast-1a',\n",
       "      'GroupName': '',\n",
       "      'Tenancy': 'default'},\n",
       "     'PrivateDnsName': '',\n",
       "     'ProductCodes': [],\n",
       "     'PublicDnsName': '',\n",
       "     'RootDeviceName': '/dev/sda1',\n",
       "     'RootDeviceType': 'ebs',\n",
       "     'SecurityGroups': [],\n",
       "     'SpotInstanceRequestId': 'sir-ihwg9nfh',\n",
       "     'State': {'Code': 48, 'Name': 'terminated'},\n",
       "     'StateReason': {'Code': 'Client.UserInitiatedShutdown',\n",
       "      'Message': 'Client.UserInitiatedShutdown: User initiated shutdown'},\n",
       "     'StateTransitionReason': 'User initiated (2018-06-17 12:28:54 GMT)',\n",
       "     'Tags': [{'Key': 'Name', 'Value': 'jupyterSpot'},\n",
       "      {'Key': 'aws:ec2launchtemplate:id', 'Value': 'lt-0e6c2b4b9bd729642'},\n",
       "      {'Key': 'aws:ec2spot:fleet-request-id',\n",
       "       'Value': 'sfr-c9e7eacf-72ca-4526-a93b-b1defe375084'},\n",
       "      {'Key': 'aws:ec2launchtemplate:version', 'Value': '15'}],\n",
       "     'VirtualizationType': 'hvm'}],\n",
       "   'OwnerId': '110144130993',\n",
       "   'RequesterId': '027889692287',\n",
       "   'ReservationId': 'r-07ade09358c2375cd'}],\n",
       " 'ResponseMetadata': {'HTTPHeaders': {'content-type': 'text/xml;charset=UTF-8',\n",
       "   'date': 'Sun, 17 Jun 2018 12:33:34 GMT',\n",
       "   'server': 'AmazonEC2',\n",
       "   'transfer-encoding': 'chunked',\n",
       "   'vary': 'Accept-Encoding'},\n",
       "  'HTTPStatusCode': 200,\n",
       "  'RequestId': '6737e5f8-57a4-4516-9004-bb60317d4995',\n",
       "  'RetryAttempts': 0}}"
      ]
     },
     "execution_count": 59,
     "metadata": {},
     "output_type": "execute_result"
    }
   ],
   "source": [
    "response"
   ]
  },
  {
   "cell_type": "code",
   "execution_count": 73,
   "metadata": {
    "collapsed": true
   },
   "outputs": [
    {
     "data": {
      "text/plain": [
       "{'AmiLaunchIndex': 0,\n",
       " 'Architecture': 'x86_64',\n",
       " 'BlockDeviceMappings': [],\n",
       " 'ClientToken': '',\n",
       " 'EbsOptimized': False,\n",
       " 'EnaSupport': True,\n",
       " 'Hypervisor': 'xen',\n",
       " 'ImageId': 'ami-6dca2012',\n",
       " 'InstanceId': 'i-0f95d087c163be336',\n",
       " 'InstanceType': 'p2.xlarge',\n",
       " 'KeyName': 'stock-tokyo',\n",
       " 'LaunchTime': datetime.datetime(2018, 5, 27, 9, 11, 2, tzinfo=tzutc()),\n",
       " 'Monitoring': {'State': 'disabled'},\n",
       " 'NetworkInterfaces': [{'Attachment': {'AttachTime': datetime.datetime(2018, 5, 26, 10, 3, 41, tzinfo=tzutc()),\n",
       "    'AttachmentId': 'eni-attach-3d4dc2d0',\n",
       "    'DeleteOnTermination': True,\n",
       "    'DeviceIndex': 0,\n",
       "    'Status': 'attached'},\n",
       "   'Description': '',\n",
       "   'Groups': [{'GroupId': 'sg-553c0a2c', 'GroupName': 'neural'}],\n",
       "   'Ipv6Addresses': [],\n",
       "   'MacAddress': '06:48:16:87:15:de',\n",
       "   'NetworkInterfaceId': 'eni-b677b087',\n",
       "   'OwnerId': '110144130993',\n",
       "   'PrivateDnsName': 'ip-172-31-21-124.ap-northeast-1.compute.internal',\n",
       "   'PrivateIpAddress': '172.31.21.124',\n",
       "   'PrivateIpAddresses': [{'Primary': True,\n",
       "     'PrivateDnsName': 'ip-172-31-21-124.ap-northeast-1.compute.internal',\n",
       "     'PrivateIpAddress': '172.31.21.124'}],\n",
       "   'SourceDestCheck': True,\n",
       "   'Status': 'in-use',\n",
       "   'SubnetId': 'subnet-45e07c0c',\n",
       "   'VpcId': 'vpc-1e14ed79'}],\n",
       " 'Placement': {'AvailabilityZone': 'ap-northeast-1a',\n",
       "  'GroupName': '',\n",
       "  'Tenancy': 'default'},\n",
       " 'PrivateDnsName': 'ip-172-31-21-124.ap-northeast-1.compute.internal',\n",
       " 'PrivateIpAddress': '172.31.21.124',\n",
       " 'ProductCodes': [],\n",
       " 'PublicDnsName': '',\n",
       " 'RootDeviceName': '/dev/xvda',\n",
       " 'RootDeviceType': 'ebs',\n",
       " 'SecurityGroups': [{'GroupId': 'sg-553c0a2c', 'GroupName': 'neural'}],\n",
       " 'SourceDestCheck': True,\n",
       " 'State': {'Code': 80, 'Name': 'stopped'},\n",
       " 'StateReason': {'Code': 'Client.UserInitiatedShutdown',\n",
       "  'Message': 'Client.UserInitiatedShutdown: User initiated shutdown'},\n",
       " 'StateTransitionReason': 'User initiated (2018-05-27 09:58:32 GMT)',\n",
       " 'SubnetId': 'subnet-45e07c0c',\n",
       " 'Tags': [{'Key': 'Name', 'Value': 'jupyter_gpu'}],\n",
       " 'VirtualizationType': 'hvm',\n",
       " 'VpcId': 'vpc-1e14ed79'}"
      ]
     },
     "execution_count": 73,
     "metadata": {},
     "output_type": "execute_result"
    }
   ],
   "source": [
    "response[\"Reservations\"][0][\"Instances\"][0]"
   ]
  },
  {
   "cell_type": "markdown",
   "metadata": {},
   "source": [
    "# ロードバランサー"
   ]
  },
  {
   "cell_type": "code",
   "execution_count": 11,
   "metadata": {},
   "outputs": [],
   "source": [
    "elb = boto3.client(\"elbv2\")"
   ]
  },
  {
   "cell_type": "markdown",
   "metadata": {},
   "source": [
    "## ターゲットグループにインスタンスを追加"
   ]
  },
  {
   "cell_type": "markdown",
   "metadata": {},
   "source": [
    "ターゲットグループarn取得"
   ]
  },
  {
   "cell_type": "code",
   "execution_count": 28,
   "metadata": {},
   "outputs": [],
   "source": [
    "target_name = \"jupyterSpot\""
   ]
  },
  {
   "cell_type": "code",
   "execution_count": 29,
   "metadata": {},
   "outputs": [],
   "source": [
    "target_group_arn = elb.describe_target_groups(Names=[target_name])[\"TargetGroups\"][0][\"TargetGroupArn\"]"
   ]
  },
  {
   "cell_type": "markdown",
   "metadata": {},
   "source": [
    "インスタンスをターゲットグループに登録"
   ]
  },
  {
   "cell_type": "code",
   "execution_count": 36,
   "metadata": {},
   "outputs": [
    {
     "data": {
      "text/plain": [
       "{'ResponseMetadata': {'HTTPHeaders': {'content-length': '253',\n",
       "   'content-type': 'text/xml',\n",
       "   'date': 'Sat, 09 Jun 2018 07:53:42 GMT',\n",
       "   'x-amzn-requestid': '3a8c438a-6bba-11e8-856c-8355f68ab097'},\n",
       "  'HTTPStatusCode': 200,\n",
       "  'RequestId': '3a8c438a-6bba-11e8-856c-8355f68ab097',\n",
       "  'RetryAttempts': 0}}"
      ]
     },
     "execution_count": 36,
     "metadata": {},
     "output_type": "execute_result"
    }
   ],
   "source": [
    "elb.register_targets(TargetGroupArn=target_group_arn, Targets=[{\n",
    "    'Id' : instance_id, 'Port': 8888\n",
    "}])"
   ]
  },
  {
   "cell_type": "markdown",
   "metadata": {},
   "source": [
    "インスタンスをターゲットグループから登録解除"
   ]
  },
  {
   "cell_type": "code",
   "execution_count": 37,
   "metadata": {},
   "outputs": [
    {
     "data": {
      "text/plain": [
       "{'ResponseMetadata': {'HTTPHeaders': {'content-length': '259',\n",
       "   'content-type': 'text/xml',\n",
       "   'date': 'Sat, 09 Jun 2018 07:59:40 GMT',\n",
       "   'x-amzn-requestid': '0fde190c-6bbb-11e8-b0c5-c5d67dc1453e'},\n",
       "  'HTTPStatusCode': 200,\n",
       "  'RequestId': '0fde190c-6bbb-11e8-b0c5-c5d67dc1453e',\n",
       "  'RetryAttempts': 0}}"
      ]
     },
     "execution_count": 37,
     "metadata": {},
     "output_type": "execute_result"
    }
   ],
   "source": [
    "elb.deregister_targets(TargetGroupArn=target_group_arn, Targets=[{\n",
    "    'Id': instance_id, 'Port': 8888\n",
    "}])"
   ]
  },
  {
   "cell_type": "markdown",
   "metadata": {},
   "source": [
    "## その他"
   ]
  },
  {
   "cell_type": "code",
   "execution_count": 30,
   "metadata": {},
   "outputs": [
    {
     "data": {
      "text/plain": [
       "{'ResponseMetadata': {'HTTPHeaders': {'content-length': '331',\n",
       "   'content-type': 'text/xml',\n",
       "   'date': 'Sat, 09 Jun 2018 07:04:26 GMT',\n",
       "   'x-amzn-requestid': '58bfc19c-6bb3-11e8-b812-dff030d75c3c'},\n",
       "  'HTTPStatusCode': 200,\n",
       "  'RequestId': '58bfc19c-6bb3-11e8-b812-dff030d75c3c',\n",
       "  'RetryAttempts': 0},\n",
       " 'TargetHealthDescriptions': []}"
      ]
     },
     "execution_count": 30,
     "metadata": {},
     "output_type": "execute_result"
    }
   ],
   "source": [
    "elb.describe_target_health(TargetGroupArn=target_group_arn)"
   ]
  },
  {
   "cell_type": "markdown",
   "metadata": {},
   "source": [
    "# セキュリティグループ"
   ]
  },
  {
   "cell_type": "code",
   "execution_count": 8,
   "metadata": {},
   "outputs": [],
   "source": [
    "ec2 = boto3.client(\"ec2\")"
   ]
  },
  {
   "cell_type": "code",
   "execution_count": 84,
   "metadata": {
    "scrolled": true
   },
   "outputs": [
    {
     "data": {
      "text/plain": [
       "'sg-553c0a2c'"
      ]
     },
     "execution_count": 84,
     "metadata": {},
     "output_type": "execute_result"
    }
   ],
   "source": [
    "ec2.describe_security_groups(GroupNames=[\"neural\"])[\"SecurityGroups\"][0][\"GroupId\"]"
   ]
  },
  {
   "cell_type": "code",
   "execution_count": 79,
   "metadata": {},
   "outputs": [
    {
     "data": {
      "text/plain": [
       "{'ResponseMetadata': {'HTTPHeaders': {'content-type': 'text/xml;charset=UTF-8',\n",
       "   'date': 'Sun, 17 Jun 2018 12:49:47 GMT',\n",
       "   'server': 'AmazonEC2',\n",
       "   'transfer-encoding': 'chunked',\n",
       "   'vary': 'Accept-Encoding'},\n",
       "  'HTTPStatusCode': 200,\n",
       "  'RequestId': '7b09cc28-586f-4e55-9ebb-18e0be0ba851',\n",
       "  'RetryAttempts': 0}}"
      ]
     },
     "execution_count": 79,
     "metadata": {},
     "output_type": "execute_result"
    }
   ],
   "source": [
    "ec2.modify_instance_attribute(InstanceId = AwsInfo().get_instance_info()[\"jupyter\"][\"id\"], \n",
    "                             Groups=['sg-553c0a2c'])"
   ]
  },
  {
   "cell_type": "code",
   "execution_count": 75,
   "metadata": {},
   "outputs": [
    {
     "data": {
      "text/plain": [
       "'i-0ccc4f9d10e7549a7'"
      ]
     },
     "execution_count": 75,
     "metadata": {},
     "output_type": "execute_result"
    }
   ],
   "source": [
    "AwsInfo().get_instance_info()[\"jupyter\"][\"id\"]"
   ]
  },
  {
   "cell_type": "code",
   "execution_count": 85,
   "metadata": {},
   "outputs": [],
   "source": [
    "def assign_security_group(group_name):\n",
    "    inst_id = AwsInfo().get_instance_info()[\"jupyter\"][\"id\"]\n",
    "    ec2c = boto3.client(\"ec2\")\n",
    "    group_id = ec2c.describe_security_groups(GroupNames=[group_name])[\"SecurityGroups\"][0][\"GroupId\"]\n",
    "    ec2c.modify_instance_attribute(InstanceId = inst_id, Groups=[group_id])"
   ]
  },
  {
   "cell_type": "code",
   "execution_count": 89,
   "metadata": {},
   "outputs": [],
   "source": [
    "assign_security_group(\"neural\")"
   ]
  },
  {
   "cell_type": "markdown",
   "metadata": {},
   "source": [
    "# ボリューム"
   ]
  },
  {
   "cell_type": "code",
   "execution_count": 13,
   "metadata": {},
   "outputs": [],
   "source": [
    "ec2c = boto3.client(\"ec2\")"
   ]
  },
  {
   "cell_type": "code",
   "execution_count": 10,
   "metadata": {},
   "outputs": [],
   "source": [
    "name = \"jupyterNotebook\""
   ]
  },
  {
   "cell_type": "markdown",
   "metadata": {},
   "source": [
    "## ボリューム情報取得"
   ]
  },
  {
   "cell_type": "code",
   "execution_count": 11,
   "metadata": {},
   "outputs": [],
   "source": [
    "def get_ebs_volume_information_from_name(name):\n",
    "    info = {}\n",
    "    ec2c = boto3.client(\"ec2\")\n",
    "    volume_info = ec2c.describe_volumes()[\"Volumes\"]\n",
    "    for vol in volume_info:\n",
    "        tags = vol[\"Tags\"]\n",
    "        for pair in tags:\n",
    "            if pair[\"Key\"] == \"Name\":\n",
    "                if pair[\"Value\"] == name:\n",
    "                    info[\"name\"] = name\n",
    "                    info[\"id\"] = vol[\"VolumeId\"]\n",
    "                    return info"
   ]
  },
  {
   "cell_type": "code",
   "execution_count": 3,
   "metadata": {
    "scrolled": true
   },
   "outputs": [
    {
     "data": {
      "text/plain": [
       "{'id': 'vol-0354e76e4955d2637', 'name': 'jupyterNotebook'}"
      ]
     },
     "execution_count": 3,
     "metadata": {},
     "output_type": "execute_result"
    }
   ],
   "source": [
    "get_ebs_volume_information_from_name(\"jupyterNotebook\")"
   ]
  },
  {
   "cell_type": "markdown",
   "metadata": {},
   "source": [
    "### 関数を試す"
   ]
  },
  {
   "cell_type": "code",
   "execution_count": 4,
   "metadata": {},
   "outputs": [],
   "source": [
    "info = AwsInfo()"
   ]
  },
  {
   "cell_type": "code",
   "execution_count": 6,
   "metadata": {},
   "outputs": [
    {
     "data": {
      "text/plain": [
       "{'id': 'vol-0354e76e4955d2637', 'name': 'jupyterNotebook'}"
      ]
     },
     "execution_count": 6,
     "metadata": {},
     "output_type": "execute_result"
    }
   ],
   "source": [
    "info.get_ebs_volume_information(\"jupyterNotebook\")"
   ]
  },
  {
   "cell_type": "markdown",
   "metadata": {},
   "source": [
    "## ボリュームをアタッチ"
   ]
  },
  {
   "cell_type": "code",
   "execution_count": 7,
   "metadata": {},
   "outputs": [],
   "source": [
    "ec2r = boto3.resource(\"ec2\")"
   ]
  },
  {
   "cell_type": "code",
   "execution_count": 8,
   "metadata": {},
   "outputs": [],
   "source": [
    "volume = ec2r.Volume(get_ebs_volume_information_from_name(name)[\"id\"])"
   ]
  },
  {
   "cell_type": "code",
   "execution_count": 26,
   "metadata": {},
   "outputs": [],
   "source": [
    "inst_id = info.get_instance_info()[\"jupyter\"][\"id\"]"
   ]
  },
  {
   "cell_type": "code",
   "execution_count": 27,
   "metadata": {},
   "outputs": [
    {
     "data": {
      "text/plain": [
       "'i-0ccc4f9d10e7549a7'"
      ]
     },
     "execution_count": 27,
     "metadata": {},
     "output_type": "execute_result"
    }
   ],
   "source": [
    "inst_id"
   ]
  },
  {
   "cell_type": "code",
   "execution_count": 21,
   "metadata": {},
   "outputs": [
    {
     "data": {
      "text/plain": [
       "{'AttachTime': datetime.datetime(2018, 6, 17, 5, 12, 35, 991000, tzinfo=tzutc()),\n",
       " 'Device': 'xvdf',\n",
       " 'InstanceId': 'i-0ccc4f9d10e7549a7',\n",
       " 'ResponseMetadata': {'HTTPHeaders': {'content-type': 'text/xml;charset=UTF-8',\n",
       "   'date': 'Sun, 17 Jun 2018 05:12:35 GMT',\n",
       "   'server': 'AmazonEC2',\n",
       "   'transfer-encoding': 'chunked',\n",
       "   'vary': 'Accept-Encoding'},\n",
       "  'HTTPStatusCode': 200,\n",
       "  'RequestId': '144f66e9-202e-45ea-ac0d-4cdef174fac7',\n",
       "  'RetryAttempts': 0},\n",
       " 'State': 'attaching',\n",
       " 'VolumeId': 'vol-0354e76e4955d2637'}"
      ]
     },
     "execution_count": 21,
     "metadata": {},
     "output_type": "execute_result"
    }
   ],
   "source": [
    "volume.attach_to_instance(Device=\"xvdf\", InstanceId = inst_id)"
   ]
  },
  {
   "cell_type": "code",
   "execution_count": 29,
   "metadata": {},
   "outputs": [
    {
     "data": {
      "text/plain": [
       "{'AttachTime': datetime.datetime(2018, 6, 17, 5, 12, 35, tzinfo=tzutc()),\n",
       " 'Device': 'xvdf',\n",
       " 'InstanceId': 'i-0ccc4f9d10e7549a7',\n",
       " 'ResponseMetadata': {'HTTPHeaders': {'content-type': 'text/xml;charset=UTF-8',\n",
       "   'date': 'Sun, 17 Jun 2018 05:21:21 GMT',\n",
       "   'server': 'AmazonEC2',\n",
       "   'transfer-encoding': 'chunked',\n",
       "   'vary': 'Accept-Encoding'},\n",
       "  'HTTPStatusCode': 200,\n",
       "  'RequestId': '7b7fbe88-1fe4-4c4b-ba82-91f0d907bed5',\n",
       "  'RetryAttempts': 0},\n",
       " 'State': 'detaching',\n",
       " 'VolumeId': 'vol-0354e76e4955d2637'}"
      ]
     },
     "execution_count": 29,
     "metadata": {},
     "output_type": "execute_result"
    }
   ],
   "source": [
    "volume.detach_from_instance(Device=\"xvdf\", InstanceId = inst_id)"
   ]
  },
  {
   "cell_type": "markdown",
   "metadata": {},
   "source": [
    "### 関数"
   ]
  },
  {
   "cell_type": "code",
   "execution_count": 28,
   "metadata": {},
   "outputs": [],
   "source": [
    "inst_name = \"jupyter\"\n",
    "inst_id = AwsInfo().get_instance_info()[inst_name][\"id\"]"
   ]
  },
  {
   "cell_type": "code",
   "execution_count": 43,
   "metadata": {},
   "outputs": [],
   "source": [
    "def attach_volume(volume_name, device_name=\"xvdf\"):\n",
    "    volume_id = AwsInfo().get_ebs_volume_information(volume_name)[\"id\"]\n",
    "    ec2r = boto3.resource(\"ec2\")\n",
    "    volume = ec2r.Volume(volume_id)\n",
    "    volume.attach_to_instance(Device=device_name, InstanceId=inst_id)"
   ]
  },
  {
   "cell_type": "code",
   "execution_count": 45,
   "metadata": {},
   "outputs": [],
   "source": [
    "def detach_volume(volume_name, device_name=\"xvdf\"):\n",
    "    volume_id = AwsInfo().get_ebs_volume_information(volume_name)[\"id\"]\n",
    "    ec2r = boto3.resource(\"ec2\")\n",
    "    volume = ec2r.Volume(volume_id)\n",
    "    volume.detach_from_instance(Device=device_name, InstanceId=inst_id)"
   ]
  },
  {
   "cell_type": "code",
   "execution_count": 47,
   "metadata": {},
   "outputs": [],
   "source": [
    "attach_volume(\"jupyterNotebook\")"
   ]
  },
  {
   "cell_type": "code",
   "execution_count": 48,
   "metadata": {},
   "outputs": [],
   "source": [
    "detach_volume(\"jupyterNotebook\")"
   ]
  },
  {
   "cell_type": "markdown",
   "metadata": {},
   "source": [
    "### 関数を試す"
   ]
  },
  {
   "cell_type": "code",
   "execution_count": 56,
   "metadata": {},
   "outputs": [],
   "source": [
    "from AwsResource import AwsResource"
   ]
  },
  {
   "cell_type": "code",
   "execution_count": 53,
   "metadata": {},
   "outputs": [],
   "source": [
    "res = AwsResource(\"jupyter\")"
   ]
  },
  {
   "cell_type": "code",
   "execution_count": 54,
   "metadata": {},
   "outputs": [],
   "source": [
    "res.attach_volume(\"jupyterNotebook\")"
   ]
  },
  {
   "cell_type": "code",
   "execution_count": 55,
   "metadata": {},
   "outputs": [],
   "source": [
    "res.detach_volume(\"jupyterNotebook\")"
   ]
  },
  {
   "cell_type": "markdown",
   "metadata": {},
   "source": [
    "## その他"
   ]
  },
  {
   "cell_type": "code",
   "execution_count": 31,
   "metadata": {},
   "outputs": [],
   "source": [
    "volume_info = boto3.client(\"ec2\").describe_volumes()[\"Volumes\"]"
   ]
  },
  {
   "cell_type": "code",
   "execution_count": 33,
   "metadata": {},
   "outputs": [
    {
     "data": {
      "text/plain": [
       "[{'Attachments': [{'AttachTime': datetime.datetime(2017, 12, 10, 6, 20, 25, tzinfo=tzutc()),\n",
       "    'DeleteOnTermination': True,\n",
       "    'Device': '/dev/xvda',\n",
       "    'InstanceId': 'i-0e22faee3f2ebd2ac',\n",
       "    'State': 'attached',\n",
       "    'VolumeId': 'vol-031d621365daeaa5e'}],\n",
       "  'AvailabilityZone': 'ap-northeast-1a',\n",
       "  'CreateTime': datetime.datetime(2017, 12, 10, 6, 20, 25, 7000, tzinfo=tzutc()),\n",
       "  'Encrypted': False,\n",
       "  'Iops': 100,\n",
       "  'Size': 8,\n",
       "  'SnapshotId': 'snap-00be5fdba89d48258',\n",
       "  'State': 'in-use',\n",
       "  'Tags': [{'Key': 'Name', 'Value': 'webEBS'}],\n",
       "  'VolumeId': 'vol-031d621365daeaa5e',\n",
       "  'VolumeType': 'gp2'},\n",
       " {'Attachments': [{'AttachTime': datetime.datetime(2018, 1, 30, 14, 43, 11, tzinfo=tzutc()),\n",
       "    'DeleteOnTermination': True,\n",
       "    'Device': '/dev/xvda',\n",
       "    'InstanceId': 'i-0ccc4f9d10e7549a7',\n",
       "    'State': 'attached',\n",
       "    'VolumeId': 'vol-079bab626d55cfa29'}],\n",
       "  'AvailabilityZone': 'ap-northeast-1a',\n",
       "  'CreateTime': datetime.datetime(2018, 1, 30, 14, 43, 11, 167000, tzinfo=tzutc()),\n",
       "  'Encrypted': False,\n",
       "  'Iops': 100,\n",
       "  'Size': 12,\n",
       "  'SnapshotId': 'snap-0d38721ac6a1fdcc9',\n",
       "  'State': 'in-use',\n",
       "  'Tags': [{'Key': 'Name', 'Value': 'jupyterEBS'}],\n",
       "  'VolumeId': 'vol-079bab626d55cfa29',\n",
       "  'VolumeType': 'gp2'},\n",
       " {'Attachments': [],\n",
       "  'AvailabilityZone': 'ap-northeast-1a',\n",
       "  'CreateTime': datetime.datetime(2018, 5, 30, 15, 29, 31, 850000, tzinfo=tzutc()),\n",
       "  'Encrypted': False,\n",
       "  'Iops': 100,\n",
       "  'Size': 20,\n",
       "  'SnapshotId': '',\n",
       "  'State': 'available',\n",
       "  'Tags': [{'Key': 'Name', 'Value': 'jupyterNotebook'}],\n",
       "  'VolumeId': 'vol-0354e76e4955d2637',\n",
       "  'VolumeType': 'gp2'}]"
      ]
     },
     "execution_count": 33,
     "metadata": {},
     "output_type": "execute_result"
    }
   ],
   "source": [
    "volume_info"
   ]
  },
  {
   "cell_type": "code",
   "execution_count": 26,
   "metadata": {},
   "outputs": [
    {
     "data": {
      "text/plain": [
       "[{'Key': 'Name', 'Value': 'webEBS'}]"
      ]
     },
     "execution_count": 26,
     "metadata": {},
     "output_type": "execute_result"
    }
   ],
   "source": [
    "volume_info[0][\"Tags\"]"
   ]
  },
  {
   "cell_type": "code",
   "execution_count": null,
   "metadata": {},
   "outputs": [],
   "source": []
  }
 ],
 "metadata": {
  "kernelspec": {
   "display_name": "Python 3",
   "language": "python",
   "name": "python3"
  },
  "language_info": {
   "codemirror_mode": {
    "name": "ipython",
    "version": 3
   },
   "file_extension": ".py",
   "mimetype": "text/x-python",
   "name": "python",
   "nbconvert_exporter": "python",
   "pygments_lexer": "ipython3",
   "version": "3.6.4"
  },
  "toc": {
   "nav_menu": {},
   "number_sections": true,
   "sideBar": false,
   "skip_h1_title": false,
   "toc_cell": false,
   "toc_position": {
    "height": "346px",
    "left": "1541px",
    "right": "20px",
    "top": "101px",
    "width": "212px"
   },
   "toc_section_display": "block",
   "toc_window_display": true
  }
 },
 "nbformat": 4,
 "nbformat_minor": 2
}
